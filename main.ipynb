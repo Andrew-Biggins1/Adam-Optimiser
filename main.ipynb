{
  "nbformat": 4,
  "nbformat_minor": 0,
  "metadata": {
    "colab": {
      "provenance": [],
      "gpuType": "T4"
    },
    "kernelspec": {
      "name": "python3",
      "display_name": "Python 3"
    },
    "language_info": {
      "name": "python"
    },
    "accelerator": "GPU"
  },
  "cells": [
    {
      "cell_type": "code",
      "source": [
        "!pip install labml\n",
        "!pip install labml_nn"
      ],
      "metadata": {
        "collapsed": true,
        "id": "7NnPnAfXLFFR"
      },
      "execution_count": null,
      "outputs": []
    },
    {
      "cell_type": "code",
      "source": [
        "import torch\n",
        "import torch.nn as nn\n",
        "\n",
        "from labml_nn.optimizers import GenericAdaptiveOptimizer, WeightDecay\n",
        "\n",
        "import pandas as pd\n",
        "\n",
        "import math\n",
        "\n",
        "import matplotlib.pyplot as plt\n",
        "\n",
        "from sklearn.model_selection import train_test_split\n",
        "from sklearn.preprocessing import StandardScaler\n",
        "\n",
        "from google.colab import drive\n",
        "from google.colab import files\n",
        "\n",
        "drive.mount(\"/content/drive/\")"
      ],
      "metadata": {
        "id": "4tTB5oCoXlgu"
      },
      "execution_count": null,
      "outputs": []
    },
    {
      "cell_type": "code",
      "source": [
        "'''\n",
        "Adam class implementation\n",
        "|--> init\n",
        "|--> init_state\n",
        "|--> getmv\n",
        "|--> getlr\n",
        "|--> adapUpdate\n",
        "|--> stepParam\n",
        "'''\n",
        "\n",
        "class Adam(GenericAdaptiveOptimizer):\n",
        "  def __init__(self, params,\n",
        "               lr : float = 1e-3,\n",
        "               betas = (0.9, 0.999),\n",
        "               eps : float = 1e-16,\n",
        "               weightDecay = WeightDecay(),\n",
        "               optimizedUpdate: bool = True,\n",
        "               defaults = None\n",
        "               ) -> None:\n",
        "\n",
        "    defaults = {} if defaults is None else defaults\n",
        "    defaults.update(weightDecay.defaults())\n",
        "    super().__init__(params, defaults, lr, betas, eps)\n",
        "\n",
        "    self.weightDecay = weightDecay\n",
        "    self.optimizedUpdate = optimizedUpdate\n",
        "\n",
        "  def init_state(self, state, group, param: nn.Parameter) -> None:\n",
        "    state['step'] = 0\n",
        "    state['expAvg'] = torch.zeros_like(param, memory_format=torch.preserve_format)\n",
        "    state['expAvgSq'] = torch.zeros_like(param, memory_format=torch.preserve_format)\n",
        "\n",
        "  def get_mv(self, state, group, grad: torch.Tensor):\n",
        "    beta1, beta2 = group['betas']\n",
        "\n",
        "    m,v = state['expAvg'], state['expAvgSq']\n",
        "    m.mul_(beta1).add_(grad, alpha=1 - beta1)\n",
        "    v.mul_(beta2).addcmul_(grad, grad, value=1 - beta2)\n",
        "\n",
        "    return m,v\n",
        "\n",
        "  def get_lr(self, state, group):\n",
        "    return group[\"lr\"]\n",
        "\n",
        "  def adam_update(self, state, group, param : torch.nn.Parameter, m: torch.Tensor, v : torch.Tensor):\n",
        "    beta1, beta2 = group['betas']\n",
        "\n",
        "    biasCorrection1 = 1 - beta1 ** state['step']\n",
        "    biasCorrection2 = 1 - beta2 ** state['step']\n",
        "\n",
        "    lr = self.get_lr(state, group)\n",
        "\n",
        "    if self.optimizedUpdate:\n",
        "      denominator = v.sqrt().add_(group['eps'])\n",
        "      stepSize = lr * math.sqrt(biasCorrection2) / biasCorrection1\n",
        "\n",
        "      param.data.addcdiv_(m, denominator, value = -stepSize)\n",
        "\n",
        "    else:\n",
        "      denominator = (v.sqrt() / math.sqrt(biasCorrection2)).add_(group['eps'])\n",
        "      stepSize = lr / biasCorrection1\n",
        "      param.data.addcdiv_(m, denominator, value = -stepSize)\n",
        "\n",
        "  def step_param(self, state, group, grad : torch.Tensor, param : torch.nn.Parameter):\n",
        "    grad = self.weightDecay(param, grad, group)\n",
        "    m, v = self.get_mv(state, group, grad)\n",
        "    state['step'] += 1\n",
        "    self.adam_update(state, group, param, m, v)\n"
      ],
      "metadata": {
        "id": "use-HHUNNC0d"
      },
      "execution_count": 37,
      "outputs": []
    },
    {
      "cell_type": "code",
      "source": [
        "data = pd.read_csv(\"/content/drive/MyDrive/train.csv\")\n",
        "data = data[['GrLivArea', 'SalePrice']]\n",
        "\n",
        "scaler = StandardScaler()\n",
        "x = scaler.fit_transform(data[[\"GrLivArea\"]].values)\n",
        "y = data[\"SalePrice\"].values.reshape(-1, 1)\n",
        "\n",
        "xTensor = torch.tensor(x, dtype=torch.float32)\n",
        "yTensor = torch.tensor(y, dtype=torch.float32)\n",
        "\n",
        "xTrain, xVal, yTrain, yVal = train_test_split(xTensor, yTensor, test_size=0.2, random_state=42)\n",
        "\n",
        "class testModel(nn.Module):\n",
        "  def __init__(self) -> None:\n",
        "    super().__init__()\n",
        "    self.Linear = nn.Linear(1,1)\n",
        "\n",
        "  def forward(self, x):\n",
        "    return self.Linear(x)\n",
        "\n",
        "def train(model, optimizer, epochs=1000):\n",
        "\n",
        "  criterion = nn.MSELoss()\n",
        "  losses = []\n",
        "\n",
        "  for i in range(epochs):\n",
        "    optimizer.zero_grad()\n",
        "    predictions = model(xTrain)\n",
        "    loss = criterion(predictions, yTrain)\n",
        "    loss.backward()\n",
        "    optimizer.step()\n",
        "    losses.append(loss.item())\n",
        "\n",
        "  return losses\n",
        "\n",
        "#model 1\n",
        "adamModel = testModel()\n",
        "adamOptimizer = Adam(adamModel.parameters(), lr = 1e-3)\n",
        "adamLosses = train(adamModel, adamOptimizer)\n",
        "\n",
        "#model 2\n",
        "adaGradModel = testModel()\n",
        "adaGradmOptimizer = torch.optim.Adagrad(adaGradModel.parameters(), 1e-3)\n",
        "adaGradLosses = train(adaGradModel, adaGradmOptimizer)\n",
        "\n",
        "#model 3\n",
        "RMSpropModel = testModel()\n",
        "RMSpropOptimizer = torch.optim.RMSprop(RMSpropModel.parameters(), 1e-3)\n",
        "RMSpropLosses = train(RMSpropModel, RMSpropOptimizer)\n",
        "\n",
        "\n",
        "plt.plot(adamLosses, label=\"Adam\", color='green')\n",
        "plt.plot(adaGradLosses, label=\"AdaGrad\")\n",
        "plt.plot(RMSpropLosses, label=\"RMSprop\",color='orange')\n",
        "plt.xlabel(\"Epochs (time)\")\n",
        "plt.ylabel(\"Loss\")\n",
        "plt.legend()\n",
        "plt.show()"
      ],
      "metadata": {
        "colab": {
          "base_uri": "https://localhost:8080/",
          "height": 465
        },
        "id": "YsKxP3g-eC8u",
        "outputId": "97d38361-ae72-43c5-a8cb-b2bbe6f294c4"
      },
      "execution_count": 35,
      "outputs": [
        {
          "output_type": "display_data",
          "data": {
            "text/plain": [
              "<Figure size 640x480 with 1 Axes>"
            ],
            "image/png": "[encoded data removed]"
          },
          "metadata": {}
        }
      ]
    }
  ]
}